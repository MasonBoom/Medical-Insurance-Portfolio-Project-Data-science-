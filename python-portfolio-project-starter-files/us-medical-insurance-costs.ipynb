{
 "cells": [
  {
   "cell_type": "markdown",
   "metadata": {},
   "source": [
    "# U.S. Medical Insurance Costs"
   ]
  },
  {
   "cell_type": "code",
   "execution_count": 15,
   "metadata": {},
   "outputs": [],
   "source": [
    "import csv\n",
    "import matplotlib.pyplot as plt\n",
    "import pprint"
   ]
  },
  {
   "cell_type": "markdown",
   "metadata": {},
   "source": [
    "##### These imports will be used to access our data with our Python program and making graphs to visualize data."
   ]
  },
  {
   "cell_type": "code",
   "execution_count": 16,
   "metadata": {},
   "outputs": [],
   "source": [
    "with open(\"insurance.csv\") as insurance_csv:\n",
    "    insurance_dict = csv.DictReader(insurance_csv)\n",
    "    # empty lists for each column\n",
    "    age_list = []\n",
    "    sex_list = []\n",
    "    bmi_list = []\n",
    "    children_list = []\n",
    "    smoker_list = []\n",
    "    region_list = []\n",
    "    charges_list = []\n",
    "    # moving all of the data into their respective lists\n",
    "    for row in insurance_dict:\n",
    "        age_list.append(row['age'])\n",
    "        sex_list.append(row['sex'])\n",
    "        bmi_list.append(row['bmi'])\n",
    "        children_list.append(row['children'])\n",
    "        smoker_list.append(row['smoker'])\n",
    "        region_list.append(row['region'])\n",
    "        charges_list.append(row['charges'])"
   ]
  },
  {
   "cell_type": "markdown",
   "metadata": {},
   "source": [
    "##### Now that I have separate lists for each category listed at the top of the data file, will test them to make sure they are in order by accessing them by their indexes. Assuming that our lists has the data logged in the correct order, Patient 1 should have an age of 18 and Patient 77 should have a bmi of 35.53."
   ]
  },
  {
   "cell_type": "code",
   "execution_count": 17,
   "metadata": {},
   "outputs": [
    {
     "name": "stdout",
     "output_type": "stream",
     "text": [
      "18\n",
      "35.53\n"
     ]
    }
   ],
   "source": [
    "# testing our lists\n",
    "print(age_list[1])\n",
    "print(bmi_list[77])"
   ]
  },
  {
   "cell_type": "markdown",
   "metadata": {},
   "source": [
    "##### I will be assigning names to each row of data to idenify each patient by a patient number. For example, \"Patient 1\" would match up with all of the data for the first patient."
   ]
  },
  {
   "cell_type": "code",
   "execution_count": 18,
   "metadata": {},
   "outputs": [],
   "source": [
    "# naming each row as a \"Patient #\"\n",
    "patient_list = []\n",
    "for x in range(1, len(age_list)):\n",
    "    patient_list.append(\"Patient {}\".format(x))"
   ]
  },
  {
   "cell_type": "markdown",
   "metadata": {},
   "source": [
    "##### Here is all of the data for patient 50."
   ]
  },
  {
   "cell_type": "code",
   "execution_count": 19,
   "metadata": {},
   "outputs": [
    {
     "name": "stdout",
     "output_type": "stream",
     "text": [
      "Patient 51 18 female 35.625 0 no northeast 2211.13075\n"
     ]
    }
   ],
   "source": [
    "# Patient 78 info\n",
    "print(patient_list[50], age_list[50], sex_list[50], bmi_list[50], children_list[50], smoker_list[50], region_list[50], charges_list[50])"
   ]
  },
  {
   "cell_type": "markdown",
   "metadata": {},
   "source": [
    "##### Here is where I take each datapoint from the lists and start to add them to a insurance record, so that in one list we have all of Patient 78's info! Instead of us having to know which index to reference everytime. The following for loop does just that. It takes all of the patient's info and puts it into one list, then appends that list to a bigger list called \"records_list\" that will hold all the insurance records. We also change the data points to data types that make the most sense where it makes sense."
   ]
  },
  {
   "cell_type": "code",
   "execution_count": 20,
   "metadata": {},
   "outputs": [],
   "source": [
    "# each value in each column as a list\n",
    "# changing to types that suit best\n",
    "records_list = []\n",
    "for i in range(0, len(patient_list)):\n",
    "    current_patient = []\n",
    "    current_patient.append(int(age_list[i]))\n",
    "    current_patient.append(sex_list[i])\n",
    "    current_patient.append(float(bmi_list[i]))\n",
    "    current_patient.append(int(children_list[i]))\n",
    "    current_patient.append(smoker_list[i])\n",
    "    current_patient.append(region_list[i])\n",
    "    current_patient.append(float(charges_list[i]))\n",
    "    records_list.append(current_patient)"
   ]
  },
  {
   "cell_type": "markdown",
   "metadata": {},
   "source": [
    "##### Now in order to get all of the information we need for any specific patient, all we have to do is call records_list with an index number. for example:"
   ]
  },
  {
   "cell_type": "code",
   "execution_count": 21,
   "metadata": {},
   "outputs": [
    {
     "name": "stdout",
     "output_type": "stream",
     "text": [
      "[21, 'male', 35.53, 0, 'no', 'southeast', 1532.4697]\n"
     ]
    }
   ],
   "source": [
    "print(records_list[77])"
   ]
  },
  {
   "cell_type": "markdown",
   "metadata": {},
   "source": [
    "##### Here is where I add keys to the records list in order to make that data more readable."
   ]
  },
  {
   "cell_type": "code",
   "execution_count": 22,
   "metadata": {},
   "outputs": [
    {
     "name": "stdout",
     "output_type": "stream",
     "text": [
      "{'Age': 21, 'Sex': 'male', 'BMI': 35.53, 'Children': 0, 'Smoker': 'no', 'Region': 'southeast', 'Charges': 1532.4697}\n",
      "southeast\n"
     ]
    }
   ],
   "source": [
    "# going to change records_list to a dictionary with keys\n",
    "# for easier access into values, created keys based on column names\n",
    "keys_for_records = [\n",
    "    \"Age\", \"Sex\", \"BMI\", \"Children\", \"Smoker\", \"Region\", \"Charges\"\n",
    "    ]\n",
    "# using for loop, made a list of dictionaries that used records_list and keys_records\n",
    "records_as_dict = []\n",
    "for record in records_list:\n",
    "    records_as_dict.append(dict(zip(keys_for_records, record)))\n",
    "# this master dictionary zips together the patient list with generic names and the records_as_dict, as if we did have names so everything is easily accessible.\n",
    "master_records = dict(zip(patient_list, records_as_dict))\n",
    "print(master_records[\"Patient 78\"])\n",
    "print(master_records[\"Patient 78\"][\"Region\"])"
   ]
  },
  {
   "cell_type": "markdown",
   "metadata": {},
   "source": [
    "# Analyzing Our Data by Region"
   ]
  },
  {
   "cell_type": "markdown",
   "metadata": {},
   "source": [
    "##### Out of all the directions I wanted to go, I decided to hone in on location. What bearing did location have on what each person's situation was? Were there costs dependent on where they lived to an extent? Did living in a certain area lead you to have more children? Or to smoke? Or to have a higher BMI? I wanted to find out and see if there was anything out of the ordinary about the costs for insurance by region.\n",
    "\n",
    "##### I have a few variables at my disposal. I figured out I could create a function that calcualted the average by location for some of the variables (age, BMI, children, charges). The only other variable I wanted to also get an average of was smoking, but I'd have to do that separately. The function below would use control flow to add up data and then calculates an average for each region. The output was a rounded (nice to look at) average in a dictionary with a special key."
   ]
  },
  {
   "cell_type": "code",
   "execution_count": 23,
   "metadata": {},
   "outputs": [],
   "source": [
    "# function to calculate average BY LOCATION of values that use int or float\n",
    "# can be used to calculate average of age, BMI, children, charges\n",
    "# returns a dictionary\n",
    "def average_by_location(master_records, column_to_inspect):\n",
    "    sw_total, se_total, nw_total, ne_total = 0, 0, 0, 0\n",
    "    sw_num, se_num, nw_num, ne_num = 0, 0, 0, 0\n",
    "    for record in master_records.values():\n",
    "        if record[\"Region\"] == \"southwest\":\n",
    "            sw_total += record[column_to_inspect]\n",
    "            sw_num += 1\n",
    "        elif record[\"Region\"] == \"southeast\":\n",
    "            se_total += record[column_to_inspect]\n",
    "            se_num += 1\n",
    "        elif record[\"Region\"] == \"northwest\":\n",
    "            nw_total += record[column_to_inspect]\n",
    "            nw_num += 1\n",
    "        elif record[\"Region\"] == \"northeast\":\n",
    "            ne_total += record[column_to_inspect]\n",
    "            ne_num += 1\n",
    "    sw_average = sw_total / sw_num\n",
    "    se_average = se_total / se_num\n",
    "    nw_average = nw_total / nw_num\n",
    "    ne_average = ne_total / ne_num\n",
    "    average_dict = {\n",
    "        \"Northeast \" + column_to_inspect + \" Average\": round(ne_average, 2),\n",
    "        \"Southeast \" + column_to_inspect + \" Average\": round(se_average, 2),\n",
    "        \"Southwest \" + column_to_inspect + \" Average\": round(sw_average, 2),\n",
    "        \"Northwest \" + column_to_inspect + \" Average\": round(nw_average, 2)\n",
    "    }\n",
    "    return average_dict"
   ]
  },
  {
   "cell_type": "code",
   "execution_count": 24,
   "metadata": {},
   "outputs": [
    {
     "name": "stdout",
     "output_type": "stream",
     "text": [
      "{'Northeast Charges Average': 13406.38,\n",
      " 'Northwest Charges Average': 12365.96,\n",
      " 'Southeast Charges Average': 14735.41,\n",
      " 'Southwest Charges Average': 12346.94}\n",
      "{'Northeast Age Average': 39.27,\n",
      " 'Northwest Age Average': 39.13,\n",
      " 'Southeast Age Average': 38.94,\n",
      " 'Southwest Age Average': 39.46}\n",
      "{'Northeast BMI Average': 29.17,\n",
      " 'Northwest BMI Average': 29.2,\n",
      " 'Southeast BMI Average': 33.36,\n",
      " 'Southwest BMI Average': 30.6}\n",
      "{'Northeast Children Average': 1.05,\n",
      " 'Northwest Children Average': 1.15,\n",
      " 'Southeast Children Average': 1.05,\n",
      " 'Southwest Children Average': 1.14}\n"
     ]
    }
   ],
   "source": [
    "# testing the function\n",
    "# function rounds to two decimal places\n",
    "reg_avg_charges = average_by_location(master_records, \"Charges\")\n",
    "reg_avg_age = average_by_location(master_records, \"Age\")\n",
    "reg_avg_bmi = average_by_location(master_records, \"BMI\")\n",
    "reg_avg_child = average_by_location(master_records, \"Children\")\n",
    "pprint.pprint(reg_avg_charges)\n",
    "pprint.pprint(reg_avg_age)\n",
    "pprint.pprint(reg_avg_bmi)\n",
    "pprint.pprint(reg_avg_child)"
   ]
  },
  {
   "cell_type": "markdown",
   "metadata": {},
   "source": [
    "##### Here is my smoker_probability function. It works similarly to the one above, but becuase of the string nature of the data here, I decided to tackle this differently instead of converting it to 1's and 0's for readability."
   ]
  },
  {
   "cell_type": "code",
   "execution_count": 25,
   "metadata": {},
   "outputs": [],
   "source": [
    "def smoker_probability(master_records):\n",
    "    sw_total, se_total, nw_total, ne_total = 0, 0, 0, 0\n",
    "    sw_num, se_num, nw_num, ne_num = 0, 0, 0, 0\n",
    "    for record in master_records.values():\n",
    "        if record[\"Region\"] == \"southwest\":\n",
    "            if record[\"Smoker\"] == \"yes\":\n",
    "                sw_total += 1\n",
    "                sw_num += 1\n",
    "            else:\n",
    "                sw_num += 1\n",
    "        elif record[\"Region\"] == \"southeast\":\n",
    "            if record[\"Smoker\"] == \"yes\":\n",
    "                se_total += 1\n",
    "                se_num += 1\n",
    "            else:\n",
    "                se_num += 1\n",
    "        elif record[\"Region\"] == \"northwest\":\n",
    "            if record[\"Smoker\"] == \"yes\":\n",
    "                nw_total += 1\n",
    "                nw_num += 1\n",
    "            else:\n",
    "                nw_num += 1\n",
    "        elif record[\"Region\"] == \"northeast\":\n",
    "            if record[\"Smoker\"] == \"yes\":\n",
    "                ne_total += 1\n",
    "                ne_num += 1\n",
    "            else:\n",
    "                ne_num += 1\n",
    "    sw_y_smoker_prob = sw_total / sw_num\n",
    "    se_y_smoker_prob = se_total / se_num\n",
    "    nw_y_smoker_prob = nw_total / nw_num\n",
    "    ne_y_smoker_prob = ne_total / ne_num\n",
    "    average_dict = {\n",
    "        \"Northeast Smoker Probability\": round(sw_y_smoker_prob, 2),\n",
    "        \"Southeast Smoker Probability\": round(se_y_smoker_prob, 2),\n",
    "        \"Southwest Smoker Probability\": round(nw_y_smoker_prob, 2),\n",
    "        \"Northwest Smoker Probability\": round(ne_y_smoker_prob, 2)\n",
    "    }\n",
    "    return average_dict"
   ]
  },
  {
   "cell_type": "code",
   "execution_count": 26,
   "metadata": {},
   "outputs": [
    {
     "name": "stdout",
     "output_type": "stream",
     "text": [
      "{'Northeast Smoker Probability': 0.18,\n",
      " 'Northwest Smoker Probability': 0.21,\n",
      " 'Southeast Smoker Probability': 0.25,\n",
      " 'Southwest Smoker Probability': 0.18}\n"
     ]
    }
   ],
   "source": [
    "# calculating the probability of being a smoker in decimal\n",
    "smoker_prob = smoker_probability(master_records)\n",
    "pprint.pprint(smoker_prob)"
   ]
  },
  {
   "cell_type": "markdown",
   "metadata": {},
   "source": [
    "# What does this mean?"
   ]
  },
  {
   "cell_type": "markdown",
   "metadata": {},
   "source": [
    "##### I've calculated what I wanted to, crunched some numbers, and I've realized a few things. Southeast did seem to pay more overall for insurance. Why? Age was basically the same across the board, so it wasn't that. Children Count was similarly negligible.\n",
    "\n",
    "##### two variables stuck out. BMI and Smoker Status. In the Southeast, you were more likely to smoke and more likely to have a high BMI. Just on average, Southeasterners had higher BMI's than the rest of the US. Overall, Southeasterners were just more likely to smoke. This had to factor in to their costs for sure. I decided to do a few plots using matplotlib to show the BMI, Smoker Status findings and the resulting insurance costs."
   ]
  },
  {
   "cell_type": "code",
   "execution_count": 27,
   "metadata": {},
   "outputs": [
    {
     "data": {
      "image/png": "[encoded data removed]",
      "text/plain": [
       "<Figure size 432x288 with 1 Axes>"
      ]
     },
     "metadata": {
      "needs_background": "light"
     },
     "output_type": "display_data"
    }
   ],
   "source": [
    "# bar chart to compare BMI levels across regions\n",
    "diff_colors = ['green','blue','purple','brown']\n",
    "plt.bar(\n",
    "    [\"Northeast\", \"Southeast\", \"Southwest\", \"Northwest\"],\n",
    "    reg_avg_bmi.values(),\n",
    "    color=diff_colors\n",
    ")\n",
    "plt.title('Average BMI by Region', fontsize = 16)\n",
    "plt.xlabel('Region')\n",
    "plt.ylabel('BMI')\n",
    "plt.show()\n",
    "# Southeast Region leads the way in BMI levels"
   ]
  },
  {
   "cell_type": "code",
   "execution_count": 28,
   "metadata": {},
   "outputs": [
    {
     "data": {
      "image/png": "[encoded data removed]",
      "text/plain": [
       "<Figure size 432x288 with 1 Axes>"
      ]
     },
     "metadata": {
      "needs_background": "light"
     },
     "output_type": "display_data"
    }
   ],
   "source": [
    "# bar chart to compare Smoking Probability levels across regions\n",
    "diff_colors = ['green','blue','purple','brown']\n",
    "plt.bar(\n",
    "    [\"Northeast\", \"Southeast\", \"Southwest\", \"Northwest\"],\n",
    "    smoker_prob.values(),\n",
    "    color=diff_colors\n",
    ")\n",
    "plt.title('Smoker Probability by Region', fontsize = 16)\n",
    "plt.xlabel('Region')\n",
    "plt.ylabel('Smoker Probablity')\n",
    "plt.show()\n",
    "# Southeast Region leads the way in BMI levels"
   ]
  },
  {
   "cell_type": "code",
   "execution_count": 29,
   "metadata": {},
   "outputs": [
    {
     "data": {
      "image/png": "[encoded data removed]",
      "text/plain": [
       "<Figure size 432x288 with 1 Axes>"
      ]
     },
     "metadata": {
      "needs_background": "light"
     },
     "output_type": "display_data"
    }
   ],
   "source": [
    "# bar chart to compare insurance costs by region\n",
    "plt.bar(\n",
    "    [\"Northeast\", \"Southeast\", \"Southwest\", \"Northwest\"],\n",
    "    reg_avg_charges.values(),\n",
    "    color=diff_colors\n",
    ")\n",
    "plt.title('Average Insurance Costs by Region', fontsize = 16)\n",
    "plt.xlabel('Region')\n",
    "plt.ylabel('Yearly Insurance Costs')\n",
    "plt.show()"
   ]
  },
  {
   "cell_type": "markdown",
   "metadata": {},
   "source": [
    "# My Conclusion"
   ]
  },
  {
   "cell_type": "markdown",
   "metadata": {},
   "source": [
    "##### Southeat Region yearly insurance costs lead the way, predicatably it's interesting that I have a few variables here that would directly influence insurance costs. Ages, Children, BMI, Smoker Status, etc. I chose to break everything down by region to highlight differences between different parts of the states and where people might pay the most. Ages and Children were basically flat anywhere you lived. So inconsequential. BMI and Smoker status gave a noticable edge to one region (Southeast). Southeast on average has higher BMI's and higher probability of smokers. Predictably, insurance costs were highest in the southeast. It's a chicken/egg conclusion though, with more data to dive into I could come to more conclusions. But are insurance costs high because of the lifestyles in the Southeast? Or are lifestyles the way they are because health insurance costs are so high? What could fix this? It's almost like high insurance costs are a hinderance to \"getting healthier.\" So what will give or what can change to help change lifestyles for the better?"
   ]
  },
  {
   "cell_type": "code",
   "execution_count": null,
   "metadata": {},
   "outputs": [],
   "source": []
  }
 ],
 "metadata": {
  "kernelspec": {
   "display_name": "Python 3 (ipykernel)",
   "language": "python",
   "name": "python3"
  },
  "language_info": {
   "codemirror_mode": {
    "name": "ipython",
    "version": 3
   },
   "file_extension": ".py",
   "mimetype": "text/x-python",
   "name": "python",
   "nbconvert_exporter": "python",
   "pygments_lexer": "ipython3",
   "version": "3.9.7"
  }
 },
 "nbformat": 4,
 "nbformat_minor": 4
}
